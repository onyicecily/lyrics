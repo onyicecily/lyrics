{
 "cells": [
  {
   "cell_type": "raw",
   "id": "14d199a3",
   "metadata": {},
   "source": [
    "---\n",
    "title: LYRICS ANALYSER\n",
    "description: Find the Sentiment for your Lyrics Here\n",
    "show-code: False\n",
    "params:\n",
    "    Input_artist:\n",
    "        input: text\n",
    "        rows: 1\n",
    "        label: Artist Name\n",
    "        value: \n",
    "    Input_title:\n",
    "        input: text\n",
    "        rows: 1\n",
    "        label: Song Title\n",
    "        value: \n",
    "    Input_lyrics:\n",
    "        input: text\n",
    "        rows: 20\n",
    "        label: Lyrics\n",
    "        value: \n",
    "---"
   ]
  },
  {
   "cell_type": "code",
   "execution_count": 1,
   "id": "bb69ab02",
   "metadata": {},
   "outputs": [],
   "source": [
    "from spacytextblob.spacytextblob import SpacyTextBlob\n",
    "import numpy as np\n",
    "import pandas as pd\n",
    "import matplotlib.pyplot as plt\n",
    "import re\n",
    "import string\n",
    "import math\n",
    "import spacy\n",
    "from spacy import displacy\n",
    "nlp = spacy.load('en_core_web_sm')\n",
    "import nltk\n",
    "from nltk.corpus import stopwords\n",
    "from nltk.stem import WordNetLemmatizer\n",
    "from nltk.stem import PorterStemmer\n",
    "from os import path\n",
    "from wordcloud import WordCloud, STOPWORDS, ImageColorGenerator\n",
    "from IPython.display import Markdown as md"
   ]
  },
  {
   "cell_type": "code",
   "execution_count": 2,
   "id": "bfdcc849",
   "metadata": {},
   "outputs": [],
   "source": [
    "Input_artist = 'artist'\n",
    "Input_title = 'title'\n",
    "Input_lyrics = 'The song'"
   ]
  },
  {
   "cell_type": "code",
   "execution_count": 3,
   "id": "303e6875",
   "metadata": {},
   "outputs": [],
   "source": [
    "from spacytextblob.spacytextblob import SpacyTextBlob\n",
    "import spacy\n",
    "nlp = spacy.load('en_core_web_sm')\n",
    "_=nlp.add_pipe('spacytextblob')"
   ]
  },
  {
   "cell_type": "code",
   "execution_count": 4,
   "id": "25837799",
   "metadata": {},
   "outputs": [],
   "source": [
    "doc = nlp(Input_lyrics)"
   ]
  },
  {
   "cell_type": "code",
   "execution_count": 10,
   "id": "2585bcdd",
   "metadata": {},
   "outputs": [
    {
     "data": {
      "text/markdown": [
       " <div class=\"alert alert-block alert-warning\">\n",
       "    <h1>The song with the title Title that was made by Artist:</h1>\n",
       "    <h2>It is neither safe nor unsafe😐 </h2> \n",
       "    <h4>Polarity: 0.0</h4>\n",
       "</div>\n"
      ],
      "text/plain": [
       "<IPython.core.display.Markdown object>"
      ]
     },
     "execution_count": 10,
     "metadata": {},
     "output_type": "execute_result"
    }
   ],
   "source": [
    "emojis = [\"😠\", \"😐\", \"😊\"]\n",
    "headers = [\"not safe to listen\", \"neither safe nor unsafe\", \"safe to listen\"]\n",
    "alerts = [\"danger\", \"warning\", \"success\"]\n",
    "index = 1\n",
    "if doc._.polarity >= 0.5:\n",
    "    index = 2\n",
    "elif doc._.polarity <= -0.5:\n",
    "    index = 0\n",
    "    \n",
    "#<div class=\"alert alert-block alert-{alerts[index]}\">\n",
    "    \n",
    "# display the alert\n",
    "md(f''' <div class=\"alert alert-block alert-{alerts[index]}\">\n",
    "    <h1>Title: {Input_title}</h1>\n",
    "    <h1>Artist: {Input_artist}</h1>\n",
    "    <h2>It is {headers[index]}{emojis[index]} </h2> \n",
    "    <h4>Polarity: {doc._.polarity}</h4>\n",
    "</div>\n",
    "''')"
   ]
  },
  {
   "cell_type": "code",
   "execution_count": null,
   "id": "01d68a4a",
   "metadata": {},
   "outputs": [],
   "source": []
  },
  {
   "cell_type": "code",
   "execution_count": null,
   "id": "bd9b1545",
   "metadata": {},
   "outputs": [],
   "source": [
    "#x = \" \"  \n",
    "#z = doc._.blob.polarity\n",
    "#if z > 0:\n",
    " #    x = \" Safe to listen\"\n",
    "#elif z==0:\n",
    "#    x = \" It is Neutral \"\n",
    "#else:\n",
    "#    x = \" It is Not Safe to Listen to \"\n",
    "#print(\"The Name of the song is: \" + a + f\"\\nThe Title is :\" + b + f\"\\nThe song's sentiment: \"+ x)"
   ]
  },
  {
   "cell_type": "code",
   "execution_count": null,
   "id": "15737ed3",
   "metadata": {},
   "outputs": [],
   "source": []
  }
 ],
 "metadata": {
  "kernelspec": {
   "display_name": "Python 3 (ipykernel)",
   "language": "python",
   "name": "python3"
  },
  "language_info": {
   "codemirror_mode": {
    "name": "ipython",
    "version": 3
   },
   "file_extension": ".py",
   "mimetype": "text/x-python",
   "name": "python",
   "nbconvert_exporter": "python",
   "pygments_lexer": "ipython3",
   "version": "3.10.5"
  }
 },
 "nbformat": 4,
 "nbformat_minor": 5
}
