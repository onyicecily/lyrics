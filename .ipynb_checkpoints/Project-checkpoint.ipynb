{
 "cells": [
  {
   "cell_type": "raw",
   "id": "b32de1df",
   "metadata": {},
   "source": [
    "---\n",
    "title: LYRICS ANALYSER\n",
    "description: Find the Sentiment for your Lyrics Here\n",
    "show-code: False\n",
    "params:\n",
    "    Input_artist:\n",
    "        input: text\n",
    "        rows: 1\n",
    "        label: Artist Name\n",
    "        value: \n",
    "    Input_title:\n",
    "        input: text\n",
    "        rows: 1\n",
    "        label: Song Title\n",
    "        value: \n",
    "    Input_lyrics:\n",
    "        input: text\n",
    "        rows: 20\n",
    "        label: Lyrics\n",
    "        value: \n",
    "---"
   ]
  },
  {
   "cell_type": "code",
   "execution_count": 1,
   "id": "60d49f84",
   "metadata": {},
   "outputs": [],
   "source": [
    "from spacytextblob.spacytextblob import SpacyTextBlob\n",
    "import numpy as np\n",
    "import pandas as pd\n",
    "import matplotlib.pyplot as plt\n",
    "import re\n",
    "import string\n",
    "import math\n",
    "import spacy\n",
    "from spacy import displacy\n",
    "import nltk\n",
    "from nltk.corpus import stopwords\n",
    "from nltk.stem import WordNetLemmatizer\n",
    "from nltk.stem import PorterStemmer\n",
    "from os import path\n",
    "from wordcloud import WordCloud, STOPWORDS, ImageColorGenerator\n",
    "from IPython.display import Markdown as md"
   ]
  },
  {
   "cell_type": "code",
   "execution_count": 2,
   "id": "a2a951e3",
   "metadata": {},
   "outputs": [],
   "source": [
    "from spacytextblob.spacytextblob import SpacyTextBlob\n",
    "import numpy as np\n",
    "import pandas as pd\n",
    "import matplotlib.pyplot as plt\n",
    "import re\n",
    "import string\n",
    "import math\n",
    "import spacy\n",
    "from spacy import displacy\n",
    "import nltk\n",
    "from nltk.corpus import stopwords\n",
    "from nltk.stem import WordNetLemmatizer\n",
    "from nltk.stem import PorterStemmer\n",
    "from os import path\n",
    "from wordcloud import WordCloud, STOPWORDS, ImageColorGenerator\n",
    "from IPython.display import Markdown as md\n",
    "\n",
    "\n",
    "Input_artist = 'artist'\n",
    "Input_title = 'title'\n",
    "Input_lyrics = 'The song'"
   ]
  },
  {
   "cell_type": "code",
   "execution_count": 3,
   "id": "c5d161b6",
   "metadata": {},
   "outputs": [
    {
     "data": {
      "text/markdown": [
       " <div class=\"alert alert-block alert-warning\">\n",
       "    <h1>Title: title</h1>\n",
       "    <h1>Artist: artist</h1>\n",
       "    <h2>It is neither safe nor unsafe😐 </h2> \n",
       "    <h4>Polarity: 0.0</h4>\n",
       "</div>\n"
      ],
      "text/plain": [
       "<IPython.core.display.Markdown object>"
      ]
     },
     "execution_count": 3,
     "metadata": {},
     "output_type": "execute_result"
    }
   ],
   "source": [
    "from spacytextblob.spacytextblob import SpacyTextBlob\n",
    "import numpy as np\n",
    "import pandas as pd\n",
    "import matplotlib.pyplot as plt\n",
    "import re\n",
    "import string\n",
    "import math\n",
    "import spacy\n",
    "from spacy import displacy\n",
    "import nltk\n",
    "from nltk.corpus import stopwords\n",
    "from nltk.stem import WordNetLemmatizer\n",
    "from nltk.stem import PorterStemmer\n",
    "from os import path\n",
    "from wordcloud import WordCloud, STOPWORDS, ImageColorGenerator\n",
    "from IPython.display import Markdown as md\n",
    "\n",
    "nlp = spacy.load('en_core_web_sm')\n",
    "_=nlp.add_pipe('spacytextblob')\n",
    "doc = nlp(Input_lyrics)\n",
    "\n",
    "\n",
    "emojis = [\"😠\", \"😐\", \"😊\"]\n",
    "headers = [\"not safe to listen\", \"neither safe nor unsafe\", \"safe to listen\"]\n",
    "alerts = [\"danger\", \"warning\", \"success\"]\n",
    "index = 1\n",
    "if doc._.polarity > 0:\n",
    "    index = 2\n",
    "elif doc._.polarity < 0:\n",
    "    index = 0\n",
    "    \n",
    "#<div class=\"alert alert-block alert-{alerts[index]}\">\n",
    "    \n",
    "# display the alert\n",
    "md(f''' <div class=\"alert alert-block alert-{alerts[index]}\">\n",
    "    <h1>Title: {Input_title}</h1>\n",
    "    <h1>Artist: {Input_artist}</h1>\n",
    "    <h2>It is {headers[index]}{emojis[index]} </h2> \n",
    "    <h4>Polarity: {doc._.polarity}</h4>\n",
    "</div>\n",
    "''')"
   ]
  },
  {
   "cell_type": "code",
   "execution_count": 4,
   "id": "ee8b0600",
   "metadata": {},
   "outputs": [
    {
     "data": {
      "image/png": "[encoded data removed]",
      "text/plain": [
       "<Figure size 432x288 with 1 Axes>"
      ]
     },
     "metadata": {
      "needs_background": "light"
     },
     "output_type": "display_data"
    }
   ],
   "source": [
    "from spacytextblob.spacytextblob import SpacyTextBlob\n",
    "import numpy as np\n",
    "import pandas as pd\n",
    "import matplotlib.pyplot as plt\n",
    "import re\n",
    "import string\n",
    "import math\n",
    "import spacy\n",
    "from spacy import displacy\n",
    "import nltk\n",
    "from nltk.corpus import stopwords\n",
    "from nltk.stem import WordNetLemmatizer\n",
    "from nltk.stem import PorterStemmer\n",
    "from os import path\n",
    "from wordcloud import WordCloud, STOPWORDS, ImageColorGenerator\n",
    "from IPython.display import Markdown as md\n",
    "\n",
    "\n",
    "nlp = spacy.load('en_core_web_sm')\n",
    "_=nlp.add_pipe('spacytextblob')\n",
    "doc = nlp(Input_lyrics)\n",
    "\n",
    "\n",
    "cod = nltk.word_tokenize(Input_lyrics)\n",
    "\n",
    "STOPWORDS = stopwords.words('english')\n",
    "STOPWORDS.extend(['eh','LYRICS','Verse','1','2','3','4','5','6','7','8','9','10','Go','0','E','though','Its',',','say','Lyrics',':','Even','Hey','(',')','.','I','...','go','do' 'ti', 'Length', 'Name', 'aah', 'TH', 'dtype', 'Object', '480', '481', 'ni', 'won', 'woo', 'awon', 'oh', 'ah', 'AAH', 'ahh' ,'and' ,'PH', 'Ph', 'Eh', 'ehn', 'eh' ,'hello','object', 'mi','Lyric'])\n",
    "\n",
    "\n",
    "con = [t for t in cod if t not in STOPWORDS]\n",
    "\n",
    "wordcloud = WordCloud(stopwords=STOPWORDS,collocations=True, background_color=\"black\").generate(' '.join(con))\n",
    "plt.rcParams[\"figure.figsize\"] = (15,15)\n",
    "plt.title('Lyrics Wordcloud')\n",
    "plt.imshow(wordcloud, interpolation=\"bilinear\")\n",
    "plt.axis(\"off\")\n",
    "plt.show()"
   ]
  },
  {
   "cell_type": "code",
   "execution_count": 5,
   "id": "9dbc46db",
   "metadata": {},
   "outputs": [],
   "source": [
    "#x = \" \"  \n",
    "#z = doc._.blob.polarity\n",
    "#if z > 0:\n",
    " #    x = \" Safe to listen\"\n",
    "#elif z==0:\n",
    "#    x = \" It is Neutral \"\n",
    "#else:\n",
    "#    x = \" It is Not Safe to Listen to \"\n",
    "#print(\"The Name of the song is: \" + a + f\"\\nThe Title is :\" + b + f\"\\nThe song's sentiment: \"+ x)"
   ]
  },
  {
   "cell_type": "code",
   "execution_count": null,
   "id": "47e14c7a",
   "metadata": {},
   "outputs": [],
   "source": []
  }
 ],
 "metadata": {
  "kernelspec": {
   "display_name": "Python 3 (ipykernel)",
   "language": "python",
   "name": "python3"
  },
  "language_info": {
   "codemirror_mode": {
    "name": "ipython",
    "version": 3
   },
   "file_extension": ".py",
   "mimetype": "text/x-python",
   "name": "python",
   "nbconvert_exporter": "python",
   "pygments_lexer": "ipython3",
   "version": "3.10.5"
  }
 },
 "nbformat": 4,
 "nbformat_minor": 5
}
